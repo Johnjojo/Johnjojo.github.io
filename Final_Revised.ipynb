{
 "cells": [
  {
   "cell_type": "markdown",
   "metadata": {},
   "source": [
    "# How to predict a good movie by not looking at the ratings?"
   ]
  },
  {
   "cell_type": "markdown",
   "metadata": {},
   "source": [
    "### Zhanyi Tan, Rohit Mallidi "
   ]
  },
  {
   "cell_type": "markdown",
   "metadata": {},
   "source": [
    "![title](BeFunky Collage.png)"
   ]
  },
  {
   "cell_type": "markdown",
   "metadata": {},
   "source": [
    "# Motivation"
   ]
  },
  {
   "cell_type": "markdown",
   "metadata": {},
   "source": [
    "As millennials brought up in the technological revolution, we noticed that there are too many platforms that are fighting to steal our attention to make a quick buck. While this is the case with social media, online streaming services, news websites, etc., Movies are one of the main source of entertainment passed down to us from the last century. Movies let you immerse yourself and enjoy experiences without any disturbance and is still considered one of the best forms of storytelling.\n",
    "\n",
    "In the past people would rely on the Oscars and Golden Globe award nominations in deciding if a movie was great or a masterpiece. Nowadays we usually resort to ratings on websites like IMDb and Rotten Tomatoes to decide on whether or not to watch a movie. We wanted to tackle a challenge of deciding if a movie is worth watching or not without relying on these website’s ratings. Our analysis uses the movie’s budget, genre, profit and year to predict if it is a good movie. Normally, the ginormous amount of data would take a lot of effort to analyze but with the advancement of data scientific tools, we can compute large data sets of movie information with just a few lines of code. We believe that this will help us in observing trends that can determine the quality of a movie."
   ]
  },
  {
   "cell_type": "markdown",
   "metadata": {},
   "source": [
    "### Background "
   ]
  },
  {
   "cell_type": "markdown",
   "metadata": {},
   "source": [
    "<br>Usually, I decide if a movie is worth watching by its rating. Websites like IMDb and Rotten Tomatoes are my go to for movie recommendations. However, their ratings are not always reliable. For example, sometimes I may not have a device with network connecting or if this movie just came out and nobody has rated it yet.\n",
    "<br>I am very picky with my movie selection, I don't like to be disappointed. This raises the question:\"How to predict a good movie by not looking at the ratings?\"\n",
    "<br>------Zhanyi Tan"
   ]
  },
  {
   "cell_type": "markdown",
   "metadata": {},
   "source": [
    "# I. Data Collection"
   ]
  },
  {
   "cell_type": "markdown",
   "metadata": {},
   "source": [
    "### Where to find a dataset? "
   ]
  },
  {
   "cell_type": "markdown",
   "metadata": {},
   "source": [
    "First, you need to start by looking for an appropriate dataset. We found our dataset from a website called Kaggle (https://www.kaggle.com/datasets). Kaggle is home for data science. On Kaggle, statisticians and data miners compete to produce the best models for predicting and descrbing the dataset uploaded by other users. You can find a lot of datasets and models on Kaggle. For our topic, we found a dataset called \"TMDB 5000 Movie Dataset\""
   ]
  },
  {
   "cell_type": "markdown",
   "metadata": {},
   "source": [
    "# II. Data wrangling"
   ]
  },
  {
   "cell_type": "markdown",
   "metadata": {},
   "source": [
    "After downloading the dataset from Kaggle, we had to import the dataset to our porject and perform data processing. There are few python libiaries we used for this purpose. For more information about these libraries:\n",
    "<br>   Pandas: https://pandas.pydata.org\n",
    "<br>   Numpy: http://www.numpy.org/\n",
    "<br>   matplotlib: https://matplotlib.org/\n",
    "<br>   re: https://docs.python.org/3/library/re.html\n",
    "<br>   Beautiful soup: https://www.crummy.com/software/BeautifulSoup/\n",
    "<br>   request: http://docs.python-requests.org/en/master/"
   ]
  },
  {
   "cell_type": "code",
   "execution_count": 1,
   "metadata": {},
   "outputs": [],
   "source": [
    "import pandas as pd\n",
    "import numpy as np\n",
    "import matplotlib.pyplot as plt\n",
    "import re \n",
    "from bs4 import BeautifulSoup\n",
    "import requests"
   ]
  },
  {
   "cell_type": "markdown",
   "metadata": {},
   "source": [
    "First of all, store the dataset's information in a data frame. A Data frame is a two-dimensional data structure with rows and columns, and it is popular for data science. For more information about how to use data frame(https://www.tutorialspoint.com/python_pandas/index.htm)\n",
    "<br> The output here shows what the raw data looks like"
   ]
  },
  {
   "cell_type": "code",
   "execution_count": 2,
   "metadata": {},
   "outputs": [
    {
     "data": {
      "text/html": [
       "<div>\n",
       "<table border=\"1\" class=\"dataframe\">\n",
       "  <thead>\n",
       "    <tr style=\"text-align: right;\">\n",
       "      <th></th>\n",
       "      <th>budget</th>\n",
       "      <th>genres</th>\n",
       "      <th>homepage</th>\n",
       "      <th>id</th>\n",
       "      <th>keywords</th>\n",
       "      <th>original_language</th>\n",
       "      <th>original_title</th>\n",
       "      <th>overview</th>\n",
       "      <th>popularity</th>\n",
       "      <th>production_companies</th>\n",
       "      <th>production_countries</th>\n",
       "      <th>release_date</th>\n",
       "      <th>revenue</th>\n",
       "      <th>runtime</th>\n",
       "      <th>spoken_languages</th>\n",
       "      <th>status</th>\n",
       "      <th>tagline</th>\n",
       "      <th>title</th>\n",
       "      <th>vote_average</th>\n",
       "      <th>vote_count</th>\n",
       "    </tr>\n",
       "  </thead>\n",
       "  <tbody>\n",
       "    <tr>\n",
       "      <th>0</th>\n",
       "      <td>237000000</td>\n",
       "      <td>[{\"id\": 28, \"name\": \"Action\"}, {\"id\": 12, \"nam...</td>\n",
       "      <td>http://www.avatarmovie.com/</td>\n",
       "      <td>19995</td>\n",
       "      <td>[{\"id\": 1463, \"name\": \"culture clash\"}, {\"id\":...</td>\n",
       "      <td>en</td>\n",
       "      <td>Avatar</td>\n",
       "      <td>In the 22nd century, a paraplegic Marine is di...</td>\n",
       "      <td>150.437577</td>\n",
       "      <td>[{\"name\": \"Ingenious Film Partners\", \"id\": 289...</td>\n",
       "      <td>[{\"iso_3166_1\": \"US\", \"name\": \"United States o...</td>\n",
       "      <td>2009-12-10</td>\n",
       "      <td>2787965087</td>\n",
       "      <td>162.0</td>\n",
       "      <td>[{\"iso_639_1\": \"en\", \"name\": \"English\"}, {\"iso...</td>\n",
       "      <td>Released</td>\n",
       "      <td>Enter the World of Pandora.</td>\n",
       "      <td>Avatar</td>\n",
       "      <td>7.2</td>\n",
       "      <td>11800</td>\n",
       "    </tr>\n",
       "    <tr>\n",
       "      <th>1</th>\n",
       "      <td>300000000</td>\n",
       "      <td>[{\"id\": 12, \"name\": \"Adventure\"}, {\"id\": 14, \"...</td>\n",
       "      <td>http://disney.go.com/disneypictures/pirates/</td>\n",
       "      <td>285</td>\n",
       "      <td>[{\"id\": 270, \"name\": \"ocean\"}, {\"id\": 726, \"na...</td>\n",
       "      <td>en</td>\n",
       "      <td>Pirates of the Caribbean: At World's End</td>\n",
       "      <td>Captain Barbossa, long believed to be dead, ha...</td>\n",
       "      <td>139.082615</td>\n",
       "      <td>[{\"name\": \"Walt Disney Pictures\", \"id\": 2}, {\"...</td>\n",
       "      <td>[{\"iso_3166_1\": \"US\", \"name\": \"United States o...</td>\n",
       "      <td>2007-05-19</td>\n",
       "      <td>961000000</td>\n",
       "      <td>169.0</td>\n",
       "      <td>[{\"iso_639_1\": \"en\", \"name\": \"English\"}]</td>\n",
       "      <td>Released</td>\n",
       "      <td>At the end of the world, the adventure begins.</td>\n",
       "      <td>Pirates of the Caribbean: At World's End</td>\n",
       "      <td>6.9</td>\n",
       "      <td>4500</td>\n",
       "    </tr>\n",
       "    <tr>\n",
       "      <th>2</th>\n",
       "      <td>245000000</td>\n",
       "      <td>[{\"id\": 28, \"name\": \"Action\"}, {\"id\": 12, \"nam...</td>\n",
       "      <td>http://www.sonypictures.com/movies/spectre/</td>\n",
       "      <td>206647</td>\n",
       "      <td>[{\"id\": 470, \"name\": \"spy\"}, {\"id\": 818, \"name...</td>\n",
       "      <td>en</td>\n",
       "      <td>Spectre</td>\n",
       "      <td>A cryptic message from Bond’s past sends him o...</td>\n",
       "      <td>107.376788</td>\n",
       "      <td>[{\"name\": \"Columbia Pictures\", \"id\": 5}, {\"nam...</td>\n",
       "      <td>[{\"iso_3166_1\": \"GB\", \"name\": \"United Kingdom\"...</td>\n",
       "      <td>2015-10-26</td>\n",
       "      <td>880674609</td>\n",
       "      <td>148.0</td>\n",
       "      <td>[{\"iso_639_1\": \"fr\", \"name\": \"Fran\\u00e7ais\"},...</td>\n",
       "      <td>Released</td>\n",
       "      <td>A Plan No One Escapes</td>\n",
       "      <td>Spectre</td>\n",
       "      <td>6.3</td>\n",
       "      <td>4466</td>\n",
       "    </tr>\n",
       "    <tr>\n",
       "      <th>3</th>\n",
       "      <td>250000000</td>\n",
       "      <td>[{\"id\": 28, \"name\": \"Action\"}, {\"id\": 80, \"nam...</td>\n",
       "      <td>http://www.thedarkknightrises.com/</td>\n",
       "      <td>49026</td>\n",
       "      <td>[{\"id\": 849, \"name\": \"dc comics\"}, {\"id\": 853,...</td>\n",
       "      <td>en</td>\n",
       "      <td>The Dark Knight Rises</td>\n",
       "      <td>Following the death of District Attorney Harve...</td>\n",
       "      <td>112.312950</td>\n",
       "      <td>[{\"name\": \"Legendary Pictures\", \"id\": 923}, {\"...</td>\n",
       "      <td>[{\"iso_3166_1\": \"US\", \"name\": \"United States o...</td>\n",
       "      <td>2012-07-16</td>\n",
       "      <td>1084939099</td>\n",
       "      <td>165.0</td>\n",
       "      <td>[{\"iso_639_1\": \"en\", \"name\": \"English\"}]</td>\n",
       "      <td>Released</td>\n",
       "      <td>The Legend Ends</td>\n",
       "      <td>The Dark Knight Rises</td>\n",
       "      <td>7.6</td>\n",
       "      <td>9106</td>\n",
       "    </tr>\n",
       "    <tr>\n",
       "      <th>4</th>\n",
       "      <td>260000000</td>\n",
       "      <td>[{\"id\": 28, \"name\": \"Action\"}, {\"id\": 12, \"nam...</td>\n",
       "      <td>http://movies.disney.com/john-carter</td>\n",
       "      <td>49529</td>\n",
       "      <td>[{\"id\": 818, \"name\": \"based on novel\"}, {\"id\":...</td>\n",
       "      <td>en</td>\n",
       "      <td>John Carter</td>\n",
       "      <td>John Carter is a war-weary, former military ca...</td>\n",
       "      <td>43.926995</td>\n",
       "      <td>[{\"name\": \"Walt Disney Pictures\", \"id\": 2}]</td>\n",
       "      <td>[{\"iso_3166_1\": \"US\", \"name\": \"United States o...</td>\n",
       "      <td>2012-03-07</td>\n",
       "      <td>284139100</td>\n",
       "      <td>132.0</td>\n",
       "      <td>[{\"iso_639_1\": \"en\", \"name\": \"English\"}]</td>\n",
       "      <td>Released</td>\n",
       "      <td>Lost in our world, found in another.</td>\n",
       "      <td>John Carter</td>\n",
       "      <td>6.1</td>\n",
       "      <td>2124</td>\n",
       "    </tr>\n",
       "  </tbody>\n",
       "</table>\n",
       "</div>"
      ],
      "text/plain": [
       "      budget                                             genres  \\\n",
       "0  237000000  [{\"id\": 28, \"name\": \"Action\"}, {\"id\": 12, \"nam...   \n",
       "1  300000000  [{\"id\": 12, \"name\": \"Adventure\"}, {\"id\": 14, \"...   \n",
       "2  245000000  [{\"id\": 28, \"name\": \"Action\"}, {\"id\": 12, \"nam...   \n",
       "3  250000000  [{\"id\": 28, \"name\": \"Action\"}, {\"id\": 80, \"nam...   \n",
       "4  260000000  [{\"id\": 28, \"name\": \"Action\"}, {\"id\": 12, \"nam...   \n",
       "\n",
       "                                       homepage      id  \\\n",
       "0                   http://www.avatarmovie.com/   19995   \n",
       "1  http://disney.go.com/disneypictures/pirates/     285   \n",
       "2   http://www.sonypictures.com/movies/spectre/  206647   \n",
       "3            http://www.thedarkknightrises.com/   49026   \n",
       "4          http://movies.disney.com/john-carter   49529   \n",
       "\n",
       "                                            keywords original_language  \\\n",
       "0  [{\"id\": 1463, \"name\": \"culture clash\"}, {\"id\":...                en   \n",
       "1  [{\"id\": 270, \"name\": \"ocean\"}, {\"id\": 726, \"na...                en   \n",
       "2  [{\"id\": 470, \"name\": \"spy\"}, {\"id\": 818, \"name...                en   \n",
       "3  [{\"id\": 849, \"name\": \"dc comics\"}, {\"id\": 853,...                en   \n",
       "4  [{\"id\": 818, \"name\": \"based on novel\"}, {\"id\":...                en   \n",
       "\n",
       "                             original_title  \\\n",
       "0                                    Avatar   \n",
       "1  Pirates of the Caribbean: At World's End   \n",
       "2                                   Spectre   \n",
       "3                     The Dark Knight Rises   \n",
       "4                               John Carter   \n",
       "\n",
       "                                            overview  popularity  \\\n",
       "0  In the 22nd century, a paraplegic Marine is di...  150.437577   \n",
       "1  Captain Barbossa, long believed to be dead, ha...  139.082615   \n",
       "2  A cryptic message from Bond’s past sends him o...  107.376788   \n",
       "3  Following the death of District Attorney Harve...  112.312950   \n",
       "4  John Carter is a war-weary, former military ca...   43.926995   \n",
       "\n",
       "                                production_companies  \\\n",
       "0  [{\"name\": \"Ingenious Film Partners\", \"id\": 289...   \n",
       "1  [{\"name\": \"Walt Disney Pictures\", \"id\": 2}, {\"...   \n",
       "2  [{\"name\": \"Columbia Pictures\", \"id\": 5}, {\"nam...   \n",
       "3  [{\"name\": \"Legendary Pictures\", \"id\": 923}, {\"...   \n",
       "4        [{\"name\": \"Walt Disney Pictures\", \"id\": 2}]   \n",
       "\n",
       "                                production_countries release_date     revenue  \\\n",
       "0  [{\"iso_3166_1\": \"US\", \"name\": \"United States o...   2009-12-10  2787965087   \n",
       "1  [{\"iso_3166_1\": \"US\", \"name\": \"United States o...   2007-05-19   961000000   \n",
       "2  [{\"iso_3166_1\": \"GB\", \"name\": \"United Kingdom\"...   2015-10-26   880674609   \n",
       "3  [{\"iso_3166_1\": \"US\", \"name\": \"United States o...   2012-07-16  1084939099   \n",
       "4  [{\"iso_3166_1\": \"US\", \"name\": \"United States o...   2012-03-07   284139100   \n",
       "\n",
       "   runtime                                   spoken_languages    status  \\\n",
       "0    162.0  [{\"iso_639_1\": \"en\", \"name\": \"English\"}, {\"iso...  Released   \n",
       "1    169.0           [{\"iso_639_1\": \"en\", \"name\": \"English\"}]  Released   \n",
       "2    148.0  [{\"iso_639_1\": \"fr\", \"name\": \"Fran\\u00e7ais\"},...  Released   \n",
       "3    165.0           [{\"iso_639_1\": \"en\", \"name\": \"English\"}]  Released   \n",
       "4    132.0           [{\"iso_639_1\": \"en\", \"name\": \"English\"}]  Released   \n",
       "\n",
       "                                          tagline  \\\n",
       "0                     Enter the World of Pandora.   \n",
       "1  At the end of the world, the adventure begins.   \n",
       "2                           A Plan No One Escapes   \n",
       "3                                 The Legend Ends   \n",
       "4            Lost in our world, found in another.   \n",
       "\n",
       "                                      title  vote_average  vote_count  \n",
       "0                                    Avatar           7.2       11800  \n",
       "1  Pirates of the Caribbean: At World's End           6.9        4500  \n",
       "2                                   Spectre           6.3        4466  \n",
       "3                     The Dark Knight Rises           7.6        9106  \n",
       "4                               John Carter           6.1        2124  "
      ]
     },
     "execution_count": 2,
     "metadata": {},
     "output_type": "execute_result"
    }
   ],
   "source": [
    "data = pd.read_csv(\"tmdb_5000_movies.csv\")\n",
    "data.head()"
   ]
  },
  {
   "cell_type": "markdown",
   "metadata": {},
   "source": [
    "Next, we need to parse the data in the form that we want so it can be more clear and accessible for what we are going to do in the next steps. Then, we transfrom the unit of budget and revenue into million dollars, store each movie's release year instead of release date, transfrom the production company and genres from the type of string to a list of stings for each movie.   "
   ]
  },
  {
   "cell_type": "code",
   "execution_count": 3,
   "metadata": {},
   "outputs": [],
   "source": [
    "year_list = []\n",
    "company_list = []\n",
    "genres_list = []\n",
    "budget_list = list(map(lambda x: int(x/1000000), data['budget']))\n",
    "revenue_list = list(map(lambda x: int(x/1000000), data['revenue']))\n",
    "\n",
    "\n",
    "\n",
    "for x in data['release_date']:\n",
    "    year_list.append(str(x)[:4])\n",
    "\n",
    "for x in data['production_companies']:\n",
    "    company_names =re.split(\"[\\\"\\{\\}:]+\",x)\n",
    "    temp = []\n",
    "    for index, obj in enumerate(company_names):\n",
    "        if obj == 'name':\n",
    "            p = company_names[index + 2]\n",
    "            temp.append(p)\n",
    "    company_list.append(temp)\n",
    "\n",
    "    \n",
    "for x in data['genres']:\n",
    "    genre =re.split(\"[\\\"\\{\\}:]+\",x)\n",
    "    temp = []\n",
    "    for index, obj in enumerate(genre):\n",
    "        if obj == 'name':\n",
    "            p = genre[index + 2]\n",
    "            temp.append(p)\n",
    "    genres_list.append(temp)\n",
    "    "
   ]
  },
  {
   "cell_type": "markdown",
   "metadata": {},
   "source": [
    "Our data is applicable now! However, we are not going to use all of the variables. Although there will be no trouble for leaving them in our data frame, we still want to sweep them so our table will be clearer. Here, we take the columns 'title','year', 'companies', 'genres', 'budget', 'revenue', 'runtime', 'vote_average', 'vote_count' and store them in a new data frame. "
   ]
  },
  {
   "cell_type": "code",
   "execution_count": 4,
   "metadata": {},
   "outputs": [],
   "source": [
    "new_data = {'title': data['original_title'], 'year': year_list, 'companies': company_list, \n",
    "            'genres':genres_list, 'budget':budget_list, 'revenue': revenue_list,\n",
    "           'runtime':data['runtime'],'vote_average': data['vote_average'],\n",
    "            'vote_count': data['vote_count']}\n",
    "\n",
    "df = pd.DataFrame(new_data, columns=['title','year','companies','genres','budget','revenue','runtime','vote_average','vote_count'])"
   ]
  },
  {
   "cell_type": "markdown",
   "metadata": {},
   "source": [
    "###  Data cleaning"
   ]
  },
  {
   "cell_type": "markdown",
   "metadata": {},
   "source": [
    "Data cleaning is a process of detecting and correcting inaccurate or corrupt records from a dataset. There is a problem of missing year in our dataset so we drop every record which has 'nan' in its year record. Besides that, we don't want to count the movies which are barely known. Ohterwise, they will possibly become the noise in our data.  We sweep the movies whose budget or revenue is lower than 10 million dollars and whose vote count is less than 100 people."
   ]
  },
  {
   "cell_type": "code",
   "execution_count": 5,
   "metadata": {},
   "outputs": [
    {
     "data": {
      "text/html": [
       "<div>\n",
       "<table border=\"1\" class=\"dataframe\">\n",
       "  <thead>\n",
       "    <tr style=\"text-align: right;\">\n",
       "      <th></th>\n",
       "      <th>title</th>\n",
       "      <th>year</th>\n",
       "      <th>companies</th>\n",
       "      <th>genres</th>\n",
       "      <th>budget</th>\n",
       "      <th>revenue</th>\n",
       "      <th>runtime</th>\n",
       "      <th>vote_average</th>\n",
       "      <th>vote_count</th>\n",
       "    </tr>\n",
       "  </thead>\n",
       "  <tbody>\n",
       "    <tr>\n",
       "      <th>0</th>\n",
       "      <td>Avatar</td>\n",
       "      <td>2009</td>\n",
       "      <td>[Ingenious Film Partners, Twentieth Century Fo...</td>\n",
       "      <td>[Action, Adventure, Fantasy, Science Fiction]</td>\n",
       "      <td>237</td>\n",
       "      <td>2787</td>\n",
       "      <td>162.0</td>\n",
       "      <td>7.2</td>\n",
       "      <td>11800</td>\n",
       "    </tr>\n",
       "    <tr>\n",
       "      <th>1</th>\n",
       "      <td>Pirates of the Caribbean: At World's End</td>\n",
       "      <td>2007</td>\n",
       "      <td>[Walt Disney Pictures, Jerry Bruckheimer Films...</td>\n",
       "      <td>[Adventure, Fantasy, Action]</td>\n",
       "      <td>300</td>\n",
       "      <td>961</td>\n",
       "      <td>169.0</td>\n",
       "      <td>6.9</td>\n",
       "      <td>4500</td>\n",
       "    </tr>\n",
       "    <tr>\n",
       "      <th>2</th>\n",
       "      <td>Spectre</td>\n",
       "      <td>2015</td>\n",
       "      <td>[Columbia Pictures, Danjaq, B24]</td>\n",
       "      <td>[Action, Adventure, Crime]</td>\n",
       "      <td>245</td>\n",
       "      <td>880</td>\n",
       "      <td>148.0</td>\n",
       "      <td>6.3</td>\n",
       "      <td>4466</td>\n",
       "    </tr>\n",
       "    <tr>\n",
       "      <th>3</th>\n",
       "      <td>The Dark Knight Rises</td>\n",
       "      <td>2012</td>\n",
       "      <td>[Legendary Pictures, Warner Bros., DC Entertai...</td>\n",
       "      <td>[Action, Crime, Drama, Thriller]</td>\n",
       "      <td>250</td>\n",
       "      <td>1084</td>\n",
       "      <td>165.0</td>\n",
       "      <td>7.6</td>\n",
       "      <td>9106</td>\n",
       "    </tr>\n",
       "    <tr>\n",
       "      <th>4</th>\n",
       "      <td>John Carter</td>\n",
       "      <td>2012</td>\n",
       "      <td>[Walt Disney Pictures]</td>\n",
       "      <td>[Action, Adventure, Science Fiction]</td>\n",
       "      <td>260</td>\n",
       "      <td>284</td>\n",
       "      <td>132.0</td>\n",
       "      <td>6.1</td>\n",
       "      <td>2124</td>\n",
       "    </tr>\n",
       "  </tbody>\n",
       "</table>\n",
       "</div>"
      ],
      "text/plain": [
       "                                      title  year  \\\n",
       "0                                    Avatar  2009   \n",
       "1  Pirates of the Caribbean: At World's End  2007   \n",
       "2                                   Spectre  2015   \n",
       "3                     The Dark Knight Rises  2012   \n",
       "4                               John Carter  2012   \n",
       "\n",
       "                                           companies  \\\n",
       "0  [Ingenious Film Partners, Twentieth Century Fo...   \n",
       "1  [Walt Disney Pictures, Jerry Bruckheimer Films...   \n",
       "2                   [Columbia Pictures, Danjaq, B24]   \n",
       "3  [Legendary Pictures, Warner Bros., DC Entertai...   \n",
       "4                             [Walt Disney Pictures]   \n",
       "\n",
       "                                          genres  budget  revenue  runtime  \\\n",
       "0  [Action, Adventure, Fantasy, Science Fiction]     237     2787    162.0   \n",
       "1                   [Adventure, Fantasy, Action]     300      961    169.0   \n",
       "2                     [Action, Adventure, Crime]     245      880    148.0   \n",
       "3               [Action, Crime, Drama, Thriller]     250     1084    165.0   \n",
       "4           [Action, Adventure, Science Fiction]     260      284    132.0   \n",
       "\n",
       "   vote_average  vote_count  \n",
       "0           7.2       11800  \n",
       "1           6.9        4500  \n",
       "2           6.3        4466  \n",
       "3           7.6        9106  \n",
       "4           6.1        2124  "
      ]
     },
     "execution_count": 5,
     "metadata": {},
     "output_type": "execute_result"
    }
   ],
   "source": [
    "df = df.drop(df[df.year == 'nan'].index)\n",
    "df = df.drop(df[df['budget'] < 10].index)\n",
    "df = df.drop(df[df['revenue'] < 10].index)\n",
    "df = df.drop(df[df['vote_count'] < 100].index)\n",
    "df.head()"
   ]
  },
  {
   "cell_type": "markdown",
   "metadata": {},
   "source": [
    "Since these records are from different years, one million dollars in 1970 and one million dollars in 2017 are not the same. We are going to convert every money related variable into a real value responding to the 2017 purchasing power. To accomplish this, we use the the formula: \n",
    "<br>_past amount in toady = (past amount * today's cpi) / cpi in the past_\n",
    "<br>For more inforamtion about the calculation(http://www.usinflationcalculator.com/)"
   ]
  },
  {
   "cell_type": "code",
   "execution_count": 6,
   "metadata": {},
   "outputs": [],
   "source": [
    "#convert year into the type of integer\n",
    "year_list = []\n",
    "for x in df['year']:\n",
    "    year_list.append(int(x))\n",
    "df['year'] = year_list"
   ]
  },
  {
   "cell_type": "code",
   "execution_count": 7,
   "metadata": {},
   "outputs": [],
   "source": [
    "#we import the cpi data online\n",
    "#then use a dictionary to store the cpi in each year in the form:\n",
    "# dict[year] = cpi_in_that_year\n",
    "dict = {}\n",
    "r = requests.get(\"http://www.usinflationcalculator.com/inflation/consumer-price-index-and-annual-percent-changes-from-1913-to-2008/\")\n",
    "data = r.text\n",
    "soup = BeautifulSoup(data, 'html.parser')\n",
    "\n",
    "table = soup.find('table')\n",
    "rows = table.tbody.findAll('tr');\n",
    "\n",
    "for x in rows:\n",
    "    year = x.findAll('td')[0].get_text()\n",
    "    if year.isdigit():\n",
    "        dict[year] = x.findAll('td')[13].get_text()\n"
   ]
  },
  {
   "cell_type": "code",
   "execution_count": 8,
   "metadata": {},
   "outputs": [],
   "source": [
    "# function of converting old value to new value by the equation \n",
    "def get_real_value(inputv, year, new_cpi):\n",
    "    old_cpi = float(dict[str(year)])\n",
    "    real_value = int((inputv * new_cpi) / old_cpi)\n",
    "    return real_value"
   ]
  },
  {
   "cell_type": "code",
   "execution_count": 9,
   "metadata": {},
   "outputs": [],
   "source": [
    "# implement the function to every value\n",
    "# store the value in the list real revenue and real budget\n",
    "# profit to store movie's profit, profit = real_revenue - real_budget\n",
    "real_revenue= []\n",
    "real_budget = []\n",
    "profit = []\n",
    "cpi_2017 = float(dict['2016'])\n",
    "# must transform gross and budget values into real 2016 dollar terms\n",
    "for index, row in df.iterrows():\n",
    "    \n",
    "    budget = row['budget']\n",
    "    year = row['year']\n",
    "    revenue = row['revenue']\n",
    "    if int(year) < 2017:\n",
    "        real_bgt = int(get_real_value(budget,str(year),cpi_2017))\n",
    "        real_avn = int(get_real_value(revenue,str(year),cpi_2017))\n",
    "        real_budget.append(real_bgt)\n",
    "        real_revenue.append(real_avn)\n",
    "        profit.append(real_avn - real_bgt)\n",
    "        \n",
    "    else:\n",
    "        real_budget.append(budget)\n",
    "        real_revenue.append(revenue)\n",
    "        profit.append(revenue - budget)"
   ]
  },
  {
   "cell_type": "code",
   "execution_count": 10,
   "metadata": {},
   "outputs": [
    {
     "data": {
      "text/html": [
       "<div>\n",
       "<table border=\"1\" class=\"dataframe\">\n",
       "  <thead>\n",
       "    <tr style=\"text-align: right;\">\n",
       "      <th></th>\n",
       "      <th>title</th>\n",
       "      <th>year</th>\n",
       "      <th>companies</th>\n",
       "      <th>genres</th>\n",
       "      <th>budget</th>\n",
       "      <th>revenue</th>\n",
       "      <th>runtime</th>\n",
       "      <th>vote_average</th>\n",
       "      <th>vote_count</th>\n",
       "      <th>profit</th>\n",
       "    </tr>\n",
       "  </thead>\n",
       "  <tbody>\n",
       "    <tr>\n",
       "      <th>0</th>\n",
       "      <td>Avatar</td>\n",
       "      <td>2009</td>\n",
       "      <td>[Ingenious Film Partners, Twentieth Century Fo...</td>\n",
       "      <td>[Action, Adventure, Fantasy, Science Fiction]</td>\n",
       "      <td>265</td>\n",
       "      <td>3117</td>\n",
       "      <td>162.0</td>\n",
       "      <td>7.2</td>\n",
       "      <td>11800</td>\n",
       "      <td>2852</td>\n",
       "    </tr>\n",
       "    <tr>\n",
       "      <th>1</th>\n",
       "      <td>Pirates of the Caribbean: At World's End</td>\n",
       "      <td>2007</td>\n",
       "      <td>[Walt Disney Pictures, Jerry Bruckheimer Films...</td>\n",
       "      <td>[Adventure, Fantasy, Action]</td>\n",
       "      <td>347</td>\n",
       "      <td>1112</td>\n",
       "      <td>169.0</td>\n",
       "      <td>6.9</td>\n",
       "      <td>4500</td>\n",
       "      <td>765</td>\n",
       "    </tr>\n",
       "    <tr>\n",
       "      <th>2</th>\n",
       "      <td>Spectre</td>\n",
       "      <td>2015</td>\n",
       "      <td>[Columbia Pictures, Danjaq, B24]</td>\n",
       "      <td>[Action, Adventure, Crime]</td>\n",
       "      <td>248</td>\n",
       "      <td>891</td>\n",
       "      <td>148.0</td>\n",
       "      <td>6.3</td>\n",
       "      <td>4466</td>\n",
       "      <td>643</td>\n",
       "    </tr>\n",
       "    <tr>\n",
       "      <th>3</th>\n",
       "      <td>The Dark Knight Rises</td>\n",
       "      <td>2012</td>\n",
       "      <td>[Legendary Pictures, Warner Bros., DC Entertai...</td>\n",
       "      <td>[Action, Crime, Drama, Thriller]</td>\n",
       "      <td>261</td>\n",
       "      <td>1133</td>\n",
       "      <td>165.0</td>\n",
       "      <td>7.6</td>\n",
       "      <td>9106</td>\n",
       "      <td>872</td>\n",
       "    </tr>\n",
       "    <tr>\n",
       "      <th>4</th>\n",
       "      <td>John Carter</td>\n",
       "      <td>2012</td>\n",
       "      <td>[Walt Disney Pictures]</td>\n",
       "      <td>[Action, Adventure, Science Fiction]</td>\n",
       "      <td>271</td>\n",
       "      <td>296</td>\n",
       "      <td>132.0</td>\n",
       "      <td>6.1</td>\n",
       "      <td>2124</td>\n",
       "      <td>25</td>\n",
       "    </tr>\n",
       "  </tbody>\n",
       "</table>\n",
       "</div>"
      ],
      "text/plain": [
       "                                      title  year  \\\n",
       "0                                    Avatar  2009   \n",
       "1  Pirates of the Caribbean: At World's End  2007   \n",
       "2                                   Spectre  2015   \n",
       "3                     The Dark Knight Rises  2012   \n",
       "4                               John Carter  2012   \n",
       "\n",
       "                                           companies  \\\n",
       "0  [Ingenious Film Partners, Twentieth Century Fo...   \n",
       "1  [Walt Disney Pictures, Jerry Bruckheimer Films...   \n",
       "2                   [Columbia Pictures, Danjaq, B24]   \n",
       "3  [Legendary Pictures, Warner Bros., DC Entertai...   \n",
       "4                             [Walt Disney Pictures]   \n",
       "\n",
       "                                          genres  budget  revenue  runtime  \\\n",
       "0  [Action, Adventure, Fantasy, Science Fiction]     265     3117    162.0   \n",
       "1                   [Adventure, Fantasy, Action]     347     1112    169.0   \n",
       "2                     [Action, Adventure, Crime]     248      891    148.0   \n",
       "3               [Action, Crime, Drama, Thriller]     261     1133    165.0   \n",
       "4           [Action, Adventure, Science Fiction]     271      296    132.0   \n",
       "\n",
       "   vote_average  vote_count  profit  \n",
       "0           7.2       11800    2852  \n",
       "1           6.9        4500     765  \n",
       "2           6.3        4466     643  \n",
       "3           7.6        9106     872  \n",
       "4           6.1        2124      25  "
      ]
     },
     "execution_count": 10,
     "metadata": {},
     "output_type": "execute_result"
    }
   ],
   "source": [
    "# put the real vaues and profit to our dataframe\n",
    "# the values now are all correct \n",
    "df['budget'] = real_budget\n",
    "df['revenue'] = real_revenue\n",
    "df['profit'] = profit\n",
    "df.head()"
   ]
  },
  {
   "cell_type": "markdown",
   "metadata": {},
   "source": [
    "# III. Exploratory Analysis and Data Visualization"
   ]
  },
  {
   "cell_type": "markdown",
   "metadata": {},
   "source": [
    "In this part we want to show the relationship bewteen variables through data visualization. Our main purpose is to find out which variables the movie's rating depends on. We are going to use the plot function from matplotlib as main tool. Matplotlib is a Python 2D plotting library. It can plot almost all popular statistics graphs.\n",
    "<br> Example of graph plot by matplotlib:  https://matplotlib.org/examples/"
   ]
  },
  {
   "cell_type": "code",
   "execution_count": 11,
   "metadata": {},
   "outputs": [],
   "source": [
    "import matplotlib.pyplot as plt"
   ]
  },
  {
   "cell_type": "markdown",
   "metadata": {},
   "source": [
    "## Example graph"
   ]
  },
  {
   "cell_type": "code",
   "execution_count": 12,
   "metadata": {},
   "outputs": [
    {
     "data": {
      "image/png": "[encoded data removed]",
      "text/plain": [
       "<matplotlib.figure.Figure at 0x7fcb9d3024e0>"
      ]
     },
     "metadata": {},
     "output_type": "display_data"
    }
   ],
   "source": [
    "years = []\n",
    "profit = []\n",
    "std = []\n",
    "score = []\n",
    "budget = []\n",
    "# divide all records into groups by their year\n",
    "year_groups = df.groupby('year')\n",
    "\n",
    "#use the np library to calculate the mean and standard deviation for \n",
    "# all the teams in each year#\n",
    "for year, y in year_groups:\n",
    "    profit.append(np.mean(y['profit']))\n",
    "    years.append(year)\n",
    "    std.append(np.std(y['profit']))\n",
    "    score.append(np.mean(y['vote_average']))\n",
    "    \n",
    "#combine them together into a new dataframe, then plot the graph#\n",
    "d2 = pd.DataFrame({'year' : years, 'profit' : profit, 'std' : std})\n",
    "ax = d2.plot(x = 'year', y = 'profit')\n",
    "plt.ylabel('average profit in ($million)')\n",
    "plt.title('average movie profit vs year')\n",
    "plt.show()"
   ]
  },
  {
   "cell_type": "markdown",
   "metadata": {},
   "source": [
    "The time series graph above shows the trends of the average profit of each movie from \n",
    "1960s. We can see the average profit is slightly decreasing from 1980 to 2000. There is no significant change from 2000 to 2017. "
   ]
  },
  {
   "cell_type": "markdown",
   "metadata": {},
   "source": [
    "## Discovering the relationshp between movie's score and other variables"
   ]
  },
  {
   "cell_type": "markdown",
   "metadata": {},
   "source": [
    "Now let's go back to our topic. If we want to find out what elements make a movie more likely to be good, we need to know what elemnts can affect a movie's score. In other words, we need to find the independent variables for the movie's score. "
   ]
  },
  {
   "cell_type": "markdown",
   "metadata": {},
   "source": [
    "### Score vs Year "
   ]
  },
  {
   "cell_type": "code",
   "execution_count": 13,
   "metadata": {},
   "outputs": [
    {
     "data": {
      "image/png": "[encoded data removed]",
      "text/plain": [
       "<matplotlib.figure.Figure at 0x7fcb9d3b31d0>"
      ]
     },
     "metadata": {},
     "output_type": "display_data"
    }
   ],
   "source": [
    "d3 = pd.DataFrame({'year' : years, 'score' : score, 'std' : std})\n",
    "ax = d3.plot(x = 'year', y = 'score')\n",
    "plt.ylabel('score')\n",
    "plt.title('average movie score vs year')\n",
    "plt.show()"
   ]
  },
  {
   "cell_type": "markdown",
   "metadata": {},
   "source": [
    "The time series graph above shows how the average score of movies change every year. The average score decrease dramatically since mid 1970s. Until mid 1990s, this decreasing trend slows down but we can still see the average score for the movies after mid 1990s is lower than those before mid 1990s. Therefore, we can conclude that year could be one independent variable for movie score  "
   ]
  },
  {
   "cell_type": "markdown",
   "metadata": {},
   "source": [
    "Average score is not always reliable. Meaning, it only works well when the data is fairly close to a normal distributuion. We want to do further reaserch to see if the year really matters. We define a movie to be considered as \"good\" if its score is greater than or equal to 7.0 . We use this standard to filter out data and store all the moives with scores over 7.0 in a new dataframe  \n",
    "<br> Is average always reliable?: https://thelogicofscience.com/2016/10/10/basic-statistics-part-5-means-vs-medians-is-the-average-reliable/"
   ]
  },
  {
   "cell_type": "code",
   "execution_count": 14,
   "metadata": {},
   "outputs": [],
   "source": [
    "year_over_7 = []\n",
    "for index, row in df.iterrows():\n",
    "    \n",
    "    score = row['vote_average']\n",
    "    year = row['year']\n",
    "    if  float(score) >= 7:\n",
    "        year_over_7.append(int(year))\n"
   ]
  },
  {
   "cell_type": "markdown",
   "metadata": {},
   "source": [
    "Then we want to divide these records into 6 different periods, so that we have a nicer bar chart."
   ]
  },
  {
   "cell_type": "code",
   "execution_count": 15,
   "metadata": {},
   "outputs": [],
   "source": [
    "sixties = [f for f in year_over_7 if f >= 1960 and f < 1970 ]\n",
    "seventies = [f for f in year_over_7 if f >= 1970 and f < 1980 ]\n",
    "eighties = [f for f in year_over_7 if f >= 1980 and f < 1990 ]\n",
    "nineties = [f for f in year_over_7 if f >= 1990 and f < 2000 ]\n",
    "twenty1 = [f for f in year_over_7 if f >= 2000 and f < 2010 ]\n",
    "twenty2 = [f for f in year_over_7 if f >= 2010  ] "
   ]
  },
  {
   "cell_type": "code",
   "execution_count": 16,
   "metadata": {},
   "outputs": [
    {
     "data": {
      "image/png": "[encoded data removed]",
      "text/plain": [
       "<matplotlib.figure.Figure at 0x7fcb9d259d30>"
      ]
     },
     "metadata": {},
     "output_type": "display_data"
    }
   ],
   "source": [
    "# set the number of movies as y axis, and periods as x axis\n",
    "#plot the bar chart\n",
    "periods = ('1960-1970', '1970-1980', '1980-1990', '1990-2000','2000-2010', '2010-2017')\n",
    "y_pos = np.arange(len(periods))\n",
    "counts = [len(sixties),len(seventies),len(eighties),len(nineties),len(twenty1),len(twenty2 )*10/7]\n",
    " \n",
    "plt.bar(y_pos, counts, align='center', alpha=0.5)\n",
    "plt.xticks(y_pos, periods)\n",
    "plt.ylabel('movies')\n",
    "plt.title('movies with socre over 7 in each period')\n",
    " \n",
    "plt.show()"
   ]
  },
  {
   "cell_type": "markdown",
   "metadata": {},
   "source": [
    "From the bar graph above, we can see there is an outbrust of good movies from the last two decades. Although the movies from these two decades does not have high average scores, we cannot deny the fact that we have more good movies produced in these two decades.    \n",
    "<br>To understand why we have these two opposing results, we do one more thing, which is to plot the ratio of good movies in every decades"
   ]
  },
  {
   "cell_type": "code",
   "execution_count": 17,
   "metadata": {},
   "outputs": [],
   "source": [
    "# we count the total number of movies in each decades \n",
    "# then store these numbers in lists \n",
    "rsixties = []\n",
    "rseventies = []\n",
    "reighties = []\n",
    "rnineties = []\n",
    "rtwenty1 = []\n",
    "rtwenty2 = []\n",
    "\n",
    "for index, row in df.iterrows():\n",
    "    year = int(row['year'])\n",
    "    if  year>= 1960 and year < 1970:\n",
    "        rsixties.append(int(year))\n",
    "    if  year>= 1970 and year < 1980:\n",
    "        rseventies.append(int(year))\n",
    "    if  year>= 1980 and year < 1990:\n",
    "        reighties.append(int(year))\n",
    "    if  year>= 1990 and year < 2000:\n",
    "        rnineties.append(int(year))\n",
    "    if  year>= 2000 and year < 2010:\n",
    "        rtwenty1.append(int(year))\n",
    "    if  year>= 2010:\n",
    "        rtwenty2.append(int(year))"
   ]
  },
  {
   "cell_type": "code",
   "execution_count": 18,
   "metadata": {},
   "outputs": [
    {
     "data": {
      "image/png": "[encoded data removed]",
      "text/plain": [
       "<matplotlib.figure.Figure at 0x7fcb9d1d9400>"
      ]
     },
     "metadata": {},
     "output_type": "display_data"
    }
   ],
   "source": [
    "# ratio of good movies = (number of good movies) / (total number of movie production)\n",
    "# plot the bar chart by using ratio of good movies as y axis and decades as x axis\n",
    "periods = ('1960-1970', '1970-1980', '1980-1990', '1990-2000','2000-2010', '2010-2017')\n",
    "y_pos = np.arange(len(periods))\n",
    "counts = [len(sixties)/len(rsixties),len(seventies)/len(rseventies),len(eighties)/len(reighties),\n",
    "          len(nineties)/len(rnineties),len(twenty1)/len(rtwenty1),len(twenty2 )/len(rtwenty2)]\n",
    " \n",
    "plt.bar(y_pos, counts, align='center', alpha=0.5)\n",
    "plt.xticks(y_pos, periods)\n",
    "\n",
    "plt.title('ratio of movies with socre over 7 in each period')\n",
    " \n",
    "plt.show()"
   ]
  },
  {
   "cell_type": "markdown",
   "metadata": {},
   "source": [
    "The bar chart above shows that the ratio of good movies for last three decades are significantly lower than the first three. This result explains the phenomenon above well. At the begining of 1990s, there is a new time of numerous movie productions. In that era, plenty of good movies were produced but there were also a lot of movies produced at the same time that were not good. In conclusion, there are a lot of good movies produced in the last two decades. However, if you are looking at the movies before 1990, you are more likely to find a good movie randomly.    "
   ]
  },
  {
   "cell_type": "markdown",
   "metadata": {},
   "source": [
    "### Score vs Budget"
   ]
  },
  {
   "cell_type": "markdown",
   "metadata": {},
   "source": [
    "Unlike year, budget seems more like a concrete independent variable. A greater budget provided a movie with a better cast and a better visual effects team. We are going to make a scatter plot, which shows the score and budget of each movie. "
   ]
  },
  {
   "cell_type": "markdown",
   "metadata": {},
   "source": [
    "#### Scatter Plot "
   ]
  },
  {
   "cell_type": "code",
   "execution_count": 19,
   "metadata": {},
   "outputs": [
    {
     "data": {
      "image/png": "[encoded data removed]",
      "text/plain": [
       "<matplotlib.figure.Figure at 0x7fcb9d1bf860>"
      ]
     },
     "metadata": {},
     "output_type": "display_data"
    }
   ],
   "source": [
    "# we use lists to store the budget, score and profit for each movie\n",
    "# then combines these values into a dataframe\n",
    "budget = []\n",
    "score = []\n",
    "profit = []\n",
    "for index, row in df.iterrows():\n",
    "    profit.append(row['profit'])\n",
    "    score.append(row['vote_average'])\n",
    "    budget.append(row['budget'])\n",
    "\n",
    "\n",
    "d4 = pd.DataFrame({'score' : score, 'budget' : budget})\n",
    "ax = d4.plot.scatter(x = 'budget', y = 'score')\n",
    "plt.ylabel('score')\n",
    "plt.show()"
   ]
  },
  {
   "cell_type": "markdown",
   "metadata": {},
   "source": [
    "The scatter plot above shows that most movies have a budget less than 100 million dollars. For the movies with budget less than 100 million dollars, their score varies from low to high. Although the movies with greater budget seem to have higher scores, a movie with low budget does not mean it is bad. "
   ]
  },
  {
   "cell_type": "markdown",
   "metadata": {},
   "source": [
    "#### Linear Regression "
   ]
  },
  {
   "cell_type": "markdown",
   "metadata": {},
   "source": [
    "Linear regression is a good way to find the relationship between two variables. We set the movie score as y axis and the amount of budget as x axis. Then we use the linear model from the library called sklearn to do the linear regression. Sklearn is a simple and efficient library for machine learning in python, for more  information: http://scikit-learn.org/stable/   "
   ]
  },
  {
   "cell_type": "code",
   "execution_count": 20,
   "metadata": {},
   "outputs": [
    {
     "data": {
      "image/png": "[encoded data removed]",
      "text/plain": [
       "<matplotlib.figure.Figure at 0x7fcb9cf1ccc0>"
      ]
     },
     "metadata": {},
     "output_type": "display_data"
    },
    {
     "name": "stdout",
     "output_type": "stream",
     "text": [
      "Coefficient: [[ 0.00041306]]\n"
     ]
    }
   ],
   "source": [
    "from sklearn import linear_model\n",
    "import statsmodels.api as sm\n",
    "import statsmodels.formula.api as smf\n",
    "\n",
    "regression = linear_model.LinearRegression()\n",
    "reg_2= smf.ols('score ~ budget', data = d4).fit()\n",
    "\n",
    "# Convert arrays of year and life expectancy into a vectors. \n",
    "lifeExp = np.transpose([d4['score'].tolist()])\n",
    "year = np.transpose([d4['budget'].tolist()])\n",
    "\n",
    "# do the regression by using year as independent variable and\n",
    "# life expectancy as dependent variable\n",
    "regression = regression.fit(year,lifeExp)\n",
    "plt.plot(year, regression.predict(year))\n",
    "plt.title('Score vs. Budget in $million')\n",
    "plt.ylabel('score')\n",
    "plt.xlabel('budget ($million)')\n",
    "plt.show()\n",
    "\n",
    "print('Coefficient:', regression.coef_)"
   ]
  },
  {
   "cell_type": "markdown",
   "metadata": {},
   "source": [
    "This graph show the relationship between budget and score. The coefficient is positive, which means a movie with greater budget will have higher score in this model. However, this linear model has a high intercept and low coefficient, which means their relationship here is very weak.  "
   ]
  },
  {
   "cell_type": "markdown",
   "metadata": {},
   "source": [
    "### Genres vs Score"
   ]
  },
  {
   "cell_type": "markdown",
   "metadata": {},
   "source": [
    "The last variable we are going to analyze is genre. We create a new data frame to store the average score for each genre and use a bar chart to compare them. "
   ]
  },
  {
   "cell_type": "code",
   "execution_count": 21,
   "metadata": {},
   "outputs": [],
   "source": [
    "i = 0\n",
    "values = []\n",
    "for idx, row in df.iterrows():\n",
    "    genres_val = row['genres']\n",
    "    if len(genres_val)>0 and not pd.isnull(row['vote_average']):\n",
    "        for genre in genres_val:\n",
    "            values.append([genre, row['vote_average']])    \n",
    "        \n",
    "subset_data1 = pd.DataFrame(values, columns=['genre','score'])\n",
    "subset_data2 = subset_data1.groupby(['genre'], as_index=False).mean()\n",
    "subset_data2 = subset_data2.sort_values('score')"
   ]
  },
  {
   "cell_type": "code",
   "execution_count": 22,
   "metadata": {},
   "outputs": [
    {
     "data": {
      "image/png": "[encoded data removed]",
      "text/plain": [
       "<matplotlib.figure.Figure at 0x7fcb8d4cc470>"
      ]
     },
     "metadata": {},
     "output_type": "display_data"
    },
    {
     "data": {
      "text/plain": [
       "<matplotlib.figure.Figure at 0x7fcb8d3ac908>"
      ]
     },
     "metadata": {},
     "output_type": "display_data"
    }
   ],
   "source": [
    "genres = subset_data2['genre']\n",
    "y_pos = np.arange(len(genres))\n",
    "plt.bar(y_pos, subset_data2['score'], align='center', alpha=0.5)\n",
    "plt.xticks(y_pos, genres,rotation='vertical')\n",
    "plt.ylabel('score')\n",
    "plt.title('Average score in different genres')\n",
    "plt.figure(figsize=(40,5)) \n",
    "plt.show()"
   ]
  },
  {
   "cell_type": "markdown",
   "metadata": {},
   "source": [
    "The bar chart above shows the average scores for different genres from low to high. War and history movies have higher average score compared to other genres, and horror movies have the lowest. If someone asks you to watch a horror movie with him/her, don't expect it to be great. \n",
    "<br> Here is an interesting analysis of Why don’t most horror movies get good IMDB ratings?  \n",
    "<br>https://www.quora.com/Why-don%E2%80%99t-most-horror-movies-get-good-IMDB-ratings"
   ]
  },
  {
   "cell_type": "markdown",
   "metadata": {},
   "source": [
    "# IV. Analysis and ML"
   ]
  },
  {
   "cell_type": "markdown",
   "metadata": {},
   "source": [
    "What we have done uptil here is only analysis. We know what factor a movie's score depends on but we don't know what mathmatical relationship exists between them.\n",
    "<br>In this part we are going to do the most exciting thing. We are going to use the machine learning algortihm to build a perdicting model."
   ]
  },
  {
   "cell_type": "markdown",
   "metadata": {},
   "source": [
    "## What is machine learning"
   ]
  },
  {
   "cell_type": "markdown",
   "metadata": {},
   "source": [
    "The first question we need to ask is \"What is machine learning?\". Definiton from SAS is: \"Machine learning is a method of data analysis that automates analytical model building. It is a branch of artificial intelligence based on the idea that machines should be able to learn and adapt through experience.\" In our case, we give the machine learning algorithm our training data, which is the movie dataset. Machine Learning algorithm will give us a perdicting model in return. With the perdicting model, we can easily predict a movie's score from its property such as year, budget and runtime.\n",
    "<bar>\n",
    "<br>More information for Machine Learnign: https://www.sas.com/en_us/insights/analytics/machine-learning.html"
   ]
  },
  {
   "cell_type": "code",
   "execution_count": 23,
   "metadata": {},
   "outputs": [],
   "source": [
    "# we choose the sklearn library\n",
    "from pandas.stats.api import ols\n",
    "import statsmodels.formula.api as sm\n",
    "from sklearn import feature_selection\n",
    "from sklearn.model_selection import train_test_split\n",
    "from sklearn import tree\n",
    "from sklearn.metrics import r2_score"
   ]
  },
  {
   "cell_type": "markdown",
   "metadata": {},
   "source": [
    "## Multivariate Linear Model"
   ]
  },
  {
   "cell_type": "code",
   "execution_count": 36,
   "metadata": {
    "scrolled": true
   },
   "outputs": [
    {
     "name": "stdout",
     "output_type": "stream",
     "text": [
      "                            OLS Regression Results                            \n",
      "==============================================================================\n",
      "Dep. Variable:           vote_average   R-squared:                       0.227\n",
      "Model:                            OLS   Adj. R-squared:                  0.226\n",
      "Method:                 Least Squares   F-statistic:                     209.7\n",
      "Date:                Sat, 16 Dec 2017   Prob (F-statistic):          3.05e-119\n",
      "Time:                        03:28:48   Log-Likelihood:                -2323.2\n",
      "No. Observations:                2147   AIC:                             4654.\n",
      "Df Residuals:                    2143   BIC:                             4677.\n",
      "Df Model:                           3                                         \n",
      "Covariance Type:            nonrobust                                         \n",
      "==============================================================================\n",
      "                 coef    std err          t      P>|t|      [0.025      0.975]\n",
      "------------------------------------------------------------------------------\n",
      "Intercept     13.6031      3.750      3.627      0.000       6.249      20.957\n",
      "year          -0.0047      0.002     -2.509      0.012      -0.008      -0.001\n",
      "budget        -0.0018      0.000     -5.923      0.000      -0.002      -0.001\n",
      "runtime        0.0195      0.001     23.914      0.000       0.018       0.021\n",
      "==============================================================================\n",
      "Omnibus:                       45.248   Durbin-Watson:                   1.851\n",
      "Prob(Omnibus):                  0.000   Jarque-Bera (JB):               65.309\n",
      "Skew:                          -0.227   Prob(JB):                     6.58e-15\n",
      "Kurtosis:                       3.724   Cond. No.                     4.88e+05\n",
      "==============================================================================\n",
      "\n",
      "Warnings:\n",
      "[1] Standard Errors assume that the covariance matrix of the errors is correctly specified.\n",
      "[2] The condition number is large, 4.88e+05. This might indicate that there are\n",
      "strong multicollinearity or other numerical problems.\n"
     ]
    }
   ],
   "source": [
    "#make sure all incorrect values in the dataset is swept\n",
    "new_data = df.dropna()\n",
    "#use the dataframe in part one and choose vote_average as dependent variable\n",
    "# year, budget, and runtime as independent variables\n",
    "ols = sm.ols(formula = \"vote_average ~year + budget + runtime\", data = new_data).fit()\n",
    "print(ols.summary())"
   ]
  },
  {
   "cell_type": "markdown",
   "metadata": {},
   "source": [
    "To understand the Regression result, we need to look at the coef and p-value for each variable. coef is the estimated value of the coefficient. P>|t| is used to decide if the null-hypothesis is ture. If it is lower than the confidence level, often 0.05, it indicates that there is a statistically significant relationship between the term and the response.\n",
    "<br>In our result, budget and runtime have 0.000 as p-values which means they are both significantly related to the movie's score. Budget and runtime are linearly related to the movie's score by their coefficients.   \n",
    "<br>\n",
    "<br> For deeper understand:https://www.datarobot.com/blog/ordinary-least-squares-in-python/  "
   ]
  },
  {
   "cell_type": "markdown",
   "metadata": {},
   "source": [
    "## Using multivariate linear model to perdict profit "
   ]
  },
  {
   "cell_type": "markdown",
   "metadata": {},
   "source": [
    "We can also play with multivariate linear model by picking year, budget, score, runtime to perdict a movie's profit"
   ]
  },
  {
   "cell_type": "code",
   "execution_count": 37,
   "metadata": {},
   "outputs": [
    {
     "name": "stdout",
     "output_type": "stream",
     "text": [
      "                            OLS Regression Results                            \n",
      "==============================================================================\n",
      "Dep. Variable:                 profit   R-squared:                       0.286\n",
      "Model:                            OLS   Adj. R-squared:                  0.285\n",
      "Method:                 Least Squares   F-statistic:                     214.4\n",
      "Date:                Sat, 16 Dec 2017   Prob (F-statistic):          7.67e-155\n",
      "Time:                        03:59:47   Log-Likelihood:                -14429.\n",
      "No. Observations:                2147   AIC:                         2.887e+04\n",
      "Df Residuals:                    2142   BIC:                         2.890e+04\n",
      "Df Model:                           4                                         \n",
      "Covariance Type:            nonrobust                                         \n",
      "==============================================================================\n",
      "                 coef    std err          t      P>|t|      [0.025      0.975]\n",
      "------------------------------------------------------------------------------\n",
      "Intercept   4598.3475   1057.310      4.349      0.000    2524.887    6671.808\n",
      "year          -2.5469      0.524     -4.860      0.000      -3.575      -1.519\n",
      "budget         1.9301      0.086     22.365      0.000       1.761       2.099\n",
      "score         90.0180      6.072     14.825      0.000      78.111     101.925\n",
      "runtime       -0.4134      0.258     -1.604      0.109      -0.919       0.092\n",
      "==============================================================================\n",
      "Omnibus:                     1782.797   Durbin-Watson:                   1.614\n",
      "Prob(Omnibus):                  0.000   Jarque-Bera (JB):            91628.705\n",
      "Skew:                           3.559   Prob(JB):                         0.00\n",
      "Kurtosis:                      34.202   Cond. No.                     4.90e+05\n",
      "==============================================================================\n",
      "\n",
      "Warnings:\n",
      "[1] Standard Errors assume that the covariance matrix of the errors is correctly specified.\n",
      "[2] The condition number is large, 4.9e+05. This might indicate that there are\n",
      "strong multicollinearity or other numerical problems.\n"
     ]
    }
   ],
   "source": [
    "ols = sm.ols(formula = \"profit ~year + budget+ score + runtime\", data = new_data).fit()\n",
    "print(ols.summary())"
   ]
  },
  {
   "cell_type": "markdown",
   "metadata": {},
   "source": [
    "## Decision Tree Classifier "
   ]
  },
  {
   "cell_type": "markdown",
   "metadata": {},
   "source": [
    "_Definition_: \"Decision Tree Classifier is a simple and widely used classification technique. It applies a straitforward idea to solve the classification problem. Decision Tree Classifier poses a series of carefully crafted questions about the attributes of the test record. Each time it receives an answer, a follow-up question is asked until a conclusion about the class label of the record is reached.\" from http://mines.humanoriented.com\n",
    "<br>\n",
    "<br> A Decision Tree Classifier introduction: https://medium.com/machine-learning-101/chapter-3-decision-trees-theory-e7398adac567"
   ]
  },
  {
   "cell_type": "code",
   "execution_count": 38,
   "metadata": {},
   "outputs": [],
   "source": [
    "# train a decision tree classifier on our data \n",
    "x_columns = ['year','budget','runtime','profit']\n",
    "y_column = 'vote_average'\n",
    "\n",
    "\n",
    "x = [list(row.values) for _, row in new_data[x_columns].iterrows()]\n",
    "y = new_data[y_column].values\n",
    "\n",
    "X_train, X_val, y_train, y_val = train_test_split(x, y, test_size = 0.2)\n",
    "\n",
    "classifier = tree.DecisionTreeRegressor(min_samples_split=3)"
   ]
  },
  {
   "cell_type": "code",
   "execution_count": 39,
   "metadata": {},
   "outputs": [
    {
     "data": {
      "text/plain": [
       "-0.38598454168884389"
      ]
     },
     "execution_count": 39,
     "metadata": {},
     "output_type": "execute_result"
    }
   ],
   "source": [
    "# use r-sqared score to test if this model fit our data well\n",
    "y_pred = classifier.fit(X_train, y_train).predict(X_val)\n",
    "\n",
    "r2 = r2_score(y_val, y_pred)\n",
    "r2"
   ]
  },
  {
   "cell_type": "markdown",
   "metadata": {},
   "source": [
    "R-squared measures how close the data is to the fitted. Our model has a low R-squared, which means this model does not fit the data well. This model does not work for our data."
   ]
  },
  {
   "cell_type": "markdown",
   "metadata": {},
   "source": [
    "## Logistic Regression"
   ]
  },
  {
   "cell_type": "markdown",
   "metadata": {},
   "source": [
    "\"Logistic Regression is a Machine Learning classification algorithm that is used to predict the probability of a categorical dependent variable.\" from towardsdatascience.com\n",
    "<br>\n",
    "<br> In our case, the categorical dependent variable is the movie's genre. We want to make a logistic regression model to perdict if a movie is good(score over 7.0) by genre.\n",
    "<br>\n",
    "<br>An intresting example: https://towardsdatascience.com/building-a-logistic-regression-in-python-step-by-step-becd4d56c9c8  "
   ]
  },
  {
   "cell_type": "code",
   "execution_count": 27,
   "metadata": {},
   "outputs": [],
   "source": [
    "from sklearn import datasets\n",
    "from sklearn.feature_selection import RFE\n",
    "from sklearn.linear_model import LogisticRegression"
   ]
  },
  {
   "cell_type": "markdown",
   "metadata": {},
   "source": [
    "The first thing we need to do is converting the type of genres from a list of strings to binary values( 1 and 0) so it is accessible for the logistic regression algorithm."
   ]
  },
  {
   "cell_type": "code",
   "execution_count": 40,
   "metadata": {},
   "outputs": [
    {
     "data": {
      "text/html": [
       "<div>\n",
       "<table border=\"1\" class=\"dataframe\">\n",
       "  <thead>\n",
       "    <tr style=\"text-align: right;\">\n",
       "      <th></th>\n",
       "      <th>Action</th>\n",
       "      <th>Adventure</th>\n",
       "      <th>Fantasy</th>\n",
       "      <th>Science Fiction</th>\n",
       "      <th>Crime</th>\n",
       "      <th>Drama</th>\n",
       "      <th>Thriller</th>\n",
       "      <th>Animation</th>\n",
       "      <th>Family</th>\n",
       "      <th>Western</th>\n",
       "      <th>Comedy</th>\n",
       "      <th>Romance</th>\n",
       "      <th>Horror</th>\n",
       "      <th>Mystery</th>\n",
       "      <th>History</th>\n",
       "      <th>War</th>\n",
       "      <th>Music</th>\n",
       "      <th>Documentary</th>\n",
       "    </tr>\n",
       "  </thead>\n",
       "  <tbody>\n",
       "    <tr>\n",
       "      <th>0</th>\n",
       "      <td>1</td>\n",
       "      <td>1</td>\n",
       "      <td>1</td>\n",
       "      <td>1</td>\n",
       "      <td>0</td>\n",
       "      <td>0</td>\n",
       "      <td>0</td>\n",
       "      <td>0</td>\n",
       "      <td>0</td>\n",
       "      <td>0</td>\n",
       "      <td>0</td>\n",
       "      <td>0</td>\n",
       "      <td>0</td>\n",
       "      <td>0</td>\n",
       "      <td>0</td>\n",
       "      <td>0</td>\n",
       "      <td>0</td>\n",
       "      <td>0</td>\n",
       "    </tr>\n",
       "    <tr>\n",
       "      <th>1</th>\n",
       "      <td>1</td>\n",
       "      <td>1</td>\n",
       "      <td>1</td>\n",
       "      <td>0</td>\n",
       "      <td>0</td>\n",
       "      <td>0</td>\n",
       "      <td>0</td>\n",
       "      <td>0</td>\n",
       "      <td>0</td>\n",
       "      <td>0</td>\n",
       "      <td>0</td>\n",
       "      <td>0</td>\n",
       "      <td>0</td>\n",
       "      <td>0</td>\n",
       "      <td>0</td>\n",
       "      <td>0</td>\n",
       "      <td>0</td>\n",
       "      <td>0</td>\n",
       "    </tr>\n",
       "    <tr>\n",
       "      <th>2</th>\n",
       "      <td>1</td>\n",
       "      <td>1</td>\n",
       "      <td>0</td>\n",
       "      <td>0</td>\n",
       "      <td>1</td>\n",
       "      <td>0</td>\n",
       "      <td>0</td>\n",
       "      <td>0</td>\n",
       "      <td>0</td>\n",
       "      <td>0</td>\n",
       "      <td>0</td>\n",
       "      <td>0</td>\n",
       "      <td>0</td>\n",
       "      <td>0</td>\n",
       "      <td>0</td>\n",
       "      <td>0</td>\n",
       "      <td>0</td>\n",
       "      <td>0</td>\n",
       "    </tr>\n",
       "    <tr>\n",
       "      <th>3</th>\n",
       "      <td>1</td>\n",
       "      <td>0</td>\n",
       "      <td>0</td>\n",
       "      <td>0</td>\n",
       "      <td>1</td>\n",
       "      <td>1</td>\n",
       "      <td>1</td>\n",
       "      <td>0</td>\n",
       "      <td>0</td>\n",
       "      <td>0</td>\n",
       "      <td>0</td>\n",
       "      <td>0</td>\n",
       "      <td>0</td>\n",
       "      <td>0</td>\n",
       "      <td>0</td>\n",
       "      <td>0</td>\n",
       "      <td>0</td>\n",
       "      <td>0</td>\n",
       "    </tr>\n",
       "    <tr>\n",
       "      <th>4</th>\n",
       "      <td>1</td>\n",
       "      <td>1</td>\n",
       "      <td>0</td>\n",
       "      <td>1</td>\n",
       "      <td>0</td>\n",
       "      <td>0</td>\n",
       "      <td>0</td>\n",
       "      <td>0</td>\n",
       "      <td>0</td>\n",
       "      <td>0</td>\n",
       "      <td>0</td>\n",
       "      <td>0</td>\n",
       "      <td>0</td>\n",
       "      <td>0</td>\n",
       "      <td>0</td>\n",
       "      <td>0</td>\n",
       "      <td>0</td>\n",
       "      <td>0</td>\n",
       "    </tr>\n",
       "  </tbody>\n",
       "</table>\n",
       "</div>"
      ],
      "text/plain": [
       "   Action  Adventure  Fantasy  Science Fiction  Crime  Drama  Thriller  \\\n",
       "0       1          1        1                1      0      0         0   \n",
       "1       1          1        1                0      0      0         0   \n",
       "2       1          1        0                0      1      0         0   \n",
       "3       1          0        0                0      1      1         1   \n",
       "4       1          1        0                1      0      0         0   \n",
       "\n",
       "   Animation  Family  Western  Comedy  Romance  Horror  Mystery  History  War  \\\n",
       "0          0       0        0       0        0       0        0        0    0   \n",
       "1          0       0        0       0        0       0        0        0    0   \n",
       "2          0       0        0       0        0       0        0        0    0   \n",
       "3          0       0        0       0        0       0        0        0    0   \n",
       "4          0       0        0       0        0       0        0        0    0   \n",
       "\n",
       "   Music  Documentary  \n",
       "0      0            0  \n",
       "1      0            0  \n",
       "2      0            0  \n",
       "3      0            0  \n",
       "4      0            0  "
      ]
     },
     "execution_count": 40,
     "metadata": {},
     "output_type": "execute_result"
    }
   ],
   "source": [
    "action = []\n",
    "adventure = []\n",
    "scifi = []\n",
    "fantasy = []\n",
    "crime = []\n",
    "drama = []\n",
    "thriller = []\n",
    "animation = []\n",
    "family = []\n",
    "western = []\n",
    "comedy = []\n",
    "romance = []\n",
    "horror = []\n",
    "mystery = []\n",
    "history = []\n",
    "war = []\n",
    "music = []\n",
    "documentary = []\n",
    "score_over7 = []\n",
    "for index, row in df.iterrows():\n",
    "    \n",
    "    if row['vote_average'] >= 7:\n",
    "        score_over7.append(1)\n",
    "    else:\n",
    "        score_over7.append(0)\n",
    "        \n",
    "    if 'Action' in row['genres'] :\n",
    "        action.append(1)\n",
    "    else:\n",
    "        action.append(0)\n",
    "    if 'Adventure' in row['genres'] :\n",
    "        adventure.append(1)\n",
    "    else:\n",
    "        adventure.append(0)\n",
    "    if 'Science Fiction' in row['genres'] :\n",
    "        scifi.append(1)\n",
    "    else:\n",
    "        scifi.append(0)    \n",
    "    if 'Fantasy' in row['genres'] :\n",
    "        fantasy.append(1)\n",
    "    else:\n",
    "        fantasy.append(0)    \n",
    "    if 'Crime' in row['genres'] :\n",
    "        crime.append(1)\n",
    "    else:\n",
    "        crime.append(0)    \n",
    "    if  'Drama' in row['genres'] :\n",
    "        drama.append(1)\n",
    "    else:\n",
    "        drama.append(0)\n",
    "    if  'Thriller' in row['genres'] :\n",
    "        thriller.append(1)\n",
    "    else:\n",
    "        thriller.append(0)\n",
    "    if  'Animation' in row['genres'] :\n",
    "        animation.append(1)\n",
    "    else:\n",
    "        animation.append(0)\n",
    "    if  'Family' in row['genres'] :\n",
    "        family.append(1)\n",
    "    else:\n",
    "        family.append(0)\n",
    "    if  'Western' in row['genres'] :\n",
    "        western.append(1)\n",
    "    else:\n",
    "        western.append(0)\n",
    "    if  'Comedy' in row['genres'] :\n",
    "        comedy.append(1)\n",
    "    else:\n",
    "        comedy.append(0)\n",
    "    if  'Romance' in row['genres'] :\n",
    "        romance.append(1)\n",
    "    else:\n",
    "        romance.append(0)\n",
    "    if  'Horror' in row['genres'] :\n",
    "        horror.append(1)\n",
    "    else:\n",
    "        horror.append(0)\n",
    "    if  'Mystery' in row['genres'] :\n",
    "        mystery.append(1)\n",
    "    else:\n",
    "        mystery.append(0)\n",
    "    if  'History' in row['genres'] :\n",
    "        history.append(1)\n",
    "    else:\n",
    "        history.append(0)\n",
    "    if  'War' in row['genres'] :\n",
    "        war.append(1)\n",
    "    else:\n",
    "        war.append(0)\n",
    "    if  'Music' in row['genres'] :\n",
    "        music.append(1)\n",
    "    else:\n",
    "        music.append(0)\n",
    "    if  'Documentary' in row['genres'] :\n",
    "        documentary.append(1)\n",
    "    else:\n",
    "        documentary.append(0)\n",
    "# create a new data frame to store the binary values for each genres\n",
    "new_data = {'Action':action, 'Adventure':adventure, 'Fantasy':fantasy, 'Science Fiction':scifi, 'Crime':crime,\n",
    "       'Drama':drama, 'Thriller':thriller, 'Animation':animation, 'Family':family, 'Western':western, 'Comedy':comedy,\n",
    "       'Romance':romance, 'Horror':horror, 'Mystery':mystery, 'History':history, 'War':war, 'Music':music,\n",
    "       'Documentary':documentary}\n",
    "\n",
    "df2 = pd.DataFrame(new_data, columns=['Action', 'Adventure', 'Fantasy', 'Science Fiction', 'Crime',\n",
    "       'Drama', 'Thriller', 'Animation', 'Family', 'Western', 'Comedy',\n",
    "       'Romance', 'Horror', 'Mystery', 'History', 'War', 'Music',\n",
    "       'Documentary'])\n",
    "df2.head()"
   ]
  },
  {
   "cell_type": "code",
   "execution_count": 41,
   "metadata": {},
   "outputs": [],
   "source": [
    "x = df2.columns\n",
    "y = score_over7\n",
    "x = df2[x]\n",
    "y = score_over7"
   ]
  },
  {
   "cell_type": "code",
   "execution_count": 42,
   "metadata": {},
   "outputs": [
    {
     "name": "stdout",
     "output_type": "stream",
     "text": [
      "Optimization terminated successfully.\n",
      "         Current function value: 0.477262\n",
      "         Iterations 7\n",
      "                           Logit Regression Results                           \n",
      "==============================================================================\n",
      "Dep. Variable:                      y   No. Observations:                 2147\n",
      "Model:                          Logit   Df Residuals:                     2129\n",
      "Method:                           MLE   Df Model:                           17\n",
      "Date:                Sat, 16 Dec 2017   Pseudo R-squ.:                  0.1142\n",
      "Time:                        04:35:44   Log-Likelihood:                -1024.7\n",
      "converged:                       True   LL-Null:                       -1156.8\n",
      "                                        LLR p-value:                 2.440e-46\n",
      "===================================================================================\n",
      "                      coef    std err          z      P>|z|      [0.025      0.975]\n",
      "-----------------------------------------------------------------------------------\n",
      "Action             -0.8864      0.142     -6.255      0.000      -1.164      -0.609\n",
      "Adventure          -0.0291      0.148     -0.197      0.844      -0.319       0.260\n",
      "Fantasy            -0.2717      0.179     -1.516      0.130      -0.623       0.080\n",
      "Science Fiction    -0.1896      0.168     -1.128      0.259      -0.519       0.140\n",
      "Crime              -0.0520      0.161     -0.323      0.747      -0.368       0.264\n",
      "Drama               0.3881      0.105      3.702      0.000       0.183       0.594\n",
      "Thriller           -0.9256      0.143     -6.473      0.000      -1.206      -0.645\n",
      "Animation           0.5280      0.274      1.929      0.054      -0.008       1.064\n",
      "Family             -0.6152      0.236     -2.605      0.009      -1.078      -0.152\n",
      "Western             0.3482      0.445      0.782      0.434      -0.525       1.221\n",
      "Comedy             -1.6079      0.125    -12.826      0.000      -1.854      -1.362\n",
      "Romance            -0.4387      0.160     -2.738      0.006      -0.753      -0.125\n",
      "Horror             -1.9026      0.310     -6.147      0.000      -2.509      -1.296\n",
      "Mystery            -0.2174      0.203     -1.070      0.285      -0.615       0.181\n",
      "History            -0.2611      0.247     -1.055      0.291      -0.746       0.224\n",
      "War                 0.6589      0.266      2.476      0.013       0.137       1.181\n",
      "Music              -0.1064      0.330     -0.323      0.747      -0.752       0.540\n",
      "Documentary         0.0333      1.281      0.026      0.979      -2.478       2.544\n",
      "===================================================================================\n"
     ]
    }
   ],
   "source": [
    "logit = sm.Logit(y,x )\n",
    "result = logit.fit()\n",
    "print (result.summary())"
   ]
  },
  {
   "cell_type": "markdown",
   "metadata": {},
   "source": [
    "The result of logistic regression is shown above. Similar to the result of linear regression, variable with P>|z| lower than 0.05 has a statistically significant relationship with the movie score.\n",
    "<br>Action, Drama, Thriller, Comedy and Horror have p-value less than 0.05 and they all have negative coefficients except Drama. This means a movie in these genres are less possible to be considered as good. Any thriller, horror and comedy are less likely to be good.     "
   ]
  },
  {
   "cell_type": "markdown",
   "metadata": {},
   "source": [
    "### Accuracy and Cross Validation"
   ]
  },
  {
   "cell_type": "code",
   "execution_count": 44,
   "metadata": {},
   "outputs": [
    {
     "data": {
      "text/plain": [
       "LogisticRegression(C=1.0, class_weight=None, dual=False, fit_intercept=True,\n",
       "          intercept_scaling=1, max_iter=100, multi_class='ovr', n_jobs=1,\n",
       "          penalty='l2', random_state=None, solver='liblinear', tol=0.0001,\n",
       "          verbose=0, warm_start=False)"
      ]
     },
     "execution_count": 44,
     "metadata": {},
     "output_type": "execute_result"
    }
   ],
   "source": [
    "X_train, X_test, y_train, y_test = train_test_split(x, y, test_size=0.3, random_state=0)\n",
    "from sklearn.linear_model import LogisticRegression\n",
    "from sklearn import metrics\n",
    "logreg = LogisticRegression()\n",
    "logreg.fit(X_train, y_train)"
   ]
  },
  {
   "cell_type": "code",
   "execution_count": 32,
   "metadata": {},
   "outputs": [
    {
     "name": "stdout",
     "output_type": "stream",
     "text": [
      "Accuracy of logistic regression classifier on test set: 0.75\n"
     ]
    }
   ],
   "source": [
    "# Predicting the test set results and calculating the accuracy\n",
    "y_pred = logreg.predict(X_test)\n",
    "print('Accuracy of logistic regression classifier on test set: {:.2f}'.format(logreg.score(X_test, y_test)))"
   ]
  },
  {
   "cell_type": "code",
   "execution_count": 33,
   "metadata": {},
   "outputs": [
    {
     "name": "stdout",
     "output_type": "stream",
     "text": [
      "10-fold cross validation average accuracy: 0.771\n"
     ]
    }
   ],
   "source": [
    "#We are using 10-fold Cross-Validation to train our Logistic Regression model.\n",
    "from sklearn import model_selection\n",
    "from sklearn.model_selection import cross_val_score\n",
    "kfold = model_selection.KFold(n_splits=10, random_state=7)\n",
    "modelCV = LogisticRegression()\n",
    "scoring = 'accuracy'\n",
    "results = model_selection.cross_val_score(modelCV, X_train, y_train, cv=kfold, scoring=scoring)\n",
    "print(\"10-fold cross validation average accuracy: %.3f\" % (results.mean()))"
   ]
  },
  {
   "cell_type": "markdown",
   "metadata": {},
   "source": [
    "\"Cross validation attempts to avoid overfitting while still producing a prediction for each observation dataset. We are using 10-fold Cross-Validation to train our Logistic Regression model.\" from towardsdatascience.com\n",
    "<br> The average accuracy is very close to the logistic regression model, we are confident that our model works well"
   ]
  },
  {
   "cell_type": "markdown",
   "metadata": {},
   "source": [
    "# Conclusion"
   ]
  },
  {
   "cell_type": "markdown",
   "metadata": {},
   "source": [
    "We are now able to answer the question \"How to predict a good movie by not looking at the ratings?\". To perdict a movie's rating, we can use the multivariate linear model with a movie's budget at runtime and using logistic regression with the movie's genres. If you don't have a computer for this calculation, just remember to expect less from a horror, thriller or comedy movie. "
   ]
  }
 ],
 "metadata": {
  "kernelspec": {
   "display_name": "Python 3",
   "language": "python",
   "name": "python3"
  },
  "language_info": {
   "codemirror_mode": {
    "name": "ipython",
    "version": 3
   },
   "file_extension": ".py",
   "mimetype": "text/x-python",
   "name": "python",
   "nbconvert_exporter": "python",
   "pygments_lexer": "ipython3",
   "version": "3.6.2"
  }
 },
 "nbformat": 4,
 "nbformat_minor": 2
}
